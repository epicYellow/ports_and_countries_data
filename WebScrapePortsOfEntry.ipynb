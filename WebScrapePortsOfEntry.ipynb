{
 "cells": [
  {
   "cell_type": "code",
   "execution_count": 102,
   "id": "b54992db-357a-4aa1-a9d4-a3558990c8d9",
   "metadata": {},
   "outputs": [],
   "source": [
    "from bs4 import BeautifulSoup\n",
    "import matplotlib.pyplot as plt\n",
    "import seaborn as sns\n",
    "import pandas as pd\n",
    "import requests\n",
    "import joblib\n",
    "import re"
   ]
  },
  {
   "cell_type": "code",
   "execution_count": 103,
   "id": "5f07d177-a775-47bd-a45d-88967ea70409",
   "metadata": {},
   "outputs": [],
   "source": [
    "url = 'https://www.dha.gov.za/index.php/immigration-services/south-african-ports-of-entry'"
   ]
  },
  {
   "cell_type": "code",
   "execution_count": 104,
   "id": "ee8b83d2-75af-4fa9-8d64-0b767d351ba2",
   "metadata": {},
   "outputs": [],
   "source": [
    "page = requests.get(url)\n",
    "soup = BeautifulSoup(page.text, \"html\")"
   ]
  },
  {
   "cell_type": "code",
   "execution_count": 105,
   "id": "afaec4b8-717f-4aa9-bb62-2ae0467e5c4b",
   "metadata": {},
   "outputs": [],
   "source": [
    "tables = soup.find_all('table')\n",
    "all_ports_of_entries_sa = []"
   ]
  },
  {
   "cell_type": "code",
   "execution_count": 106,
   "id": "4df03338-4062-465b-930f-a1c492bd2dcd",
   "metadata": {},
   "outputs": [],
   "source": [
    "def replace_escape_seq(text):\n",
    "    return text.replace('\\t', '').replace('\\n', '').replace('\\r', '')\n",
    "    "
   ]
  },
  {
   "cell_type": "code",
   "execution_count": 110,
   "id": "124f29c4-f873-4da3-b4a1-a932781a0475",
   "metadata": {},
   "outputs": [],
   "source": [
    "for table in tables:\n",
    "    country = replace_escape_seq(table.find_previous('h4').text.strip()) \n",
    "    #headers have bgcolor\n",
    "    headers = [td.text.strip() for td in table.find_all('td', {'bgcolor': True})]\n",
    "\n",
    "    #skip first one as header\n",
    "    for row in table.find_all('tr')[1:]:\n",
    "        cols =[replace_escape_seq(td.text.strip()) for td in row.find_all('td')]\n",
    "        all_ports_of_entries_sa.append([country] + cols)"
   ]
  },
  {
   "cell_type": "code",
   "execution_count": 116,
   "id": "415d5ab4-e17b-4687-abb3-832124648cb6",
   "metadata": {},
   "outputs": [],
   "source": [
    "df = pd.DataFrame(all_ports_of_entries_sa, columns=['Country', 'PortControlOffice', 'Hours', 'Tel'])"
   ]
  },
  {
   "cell_type": "code",
   "execution_count": 117,
   "id": "4d3f49e9-ef21-47c6-93fe-336fdbeaff8a",
   "metadata": {},
   "outputs": [],
   "source": [
    "df.to_csv('sa_ports_of_entries.csv')"
   ]
  },
  {
   "cell_type": "code",
   "execution_count": null,
   "id": "cea66e6e-33a4-4a5c-8414-d63c8bb1398b",
   "metadata": {},
   "outputs": [],
   "source": []
  }
 ],
 "metadata": {
  "kernelspec": {
   "display_name": "Python 3 (ipykernel)",
   "language": "python",
   "name": "python3"
  },
  "language_info": {
   "codemirror_mode": {
    "name": "ipython",
    "version": 3
   },
   "file_extension": ".py",
   "mimetype": "text/x-python",
   "name": "python",
   "nbconvert_exporter": "python",
   "pygments_lexer": "ipython3",
   "version": "3.11.7"
  }
 },
 "nbformat": 4,
 "nbformat_minor": 5
}
